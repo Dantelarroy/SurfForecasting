{
  "nbformat": 4,
  "nbformat_minor": 0,
  "metadata": {
    "colab": {
      "provenance": [],
      "authorship_tag": "ABX9TyMdIJJpJLIlzCWRkYwmqVRx",
      "include_colab_link": true
    },
    "kernelspec": {
      "name": "python3",
      "display_name": "Python 3"
    },
    "language_info": {
      "name": "python"
    }
  },
  "cells": [
    {
      "cell_type": "markdown",
      "metadata": {
        "id": "view-in-github",
        "colab_type": "text"
      },
      "source": [
        "<a href=\"https://colab.research.google.com/github/Dantelarroy/SurfForecasting/blob/main/01_data_exploration.ipynb\" target=\"_parent\"><img src=\"https://colab.research.google.com/assets/colab-badge.svg\" alt=\"Open In Colab\"/></a>"
      ]
    },
    {
      "cell_type": "markdown",
      "source": [
        "# `Challenge Surf Forecasting and Spot Recommendations`\n",
        "\n",
        "## `Contexto`\n",
        "Estás desarrollando un sistema avanzado de predicción de olas utilizando Deep Learning para series temporales.\n",
        "Este sistema no solo determinará si será un buen día para surfear en los puntos clave de Playa Grande (Biología, Yacht Club y PG), sino que también evaluará otras playas de Mar del Plata para recomendar el mejor lugar para surfear en los próximos días.\n",
        "\n",
        "## `Objetivo`\n",
        "**Predicción del surf**\n",
        "\n",
        "Entrenar un modelo que evalúe si será un buen día de surf en cualquiera de los tres puntos de Playa Grande.\n",
        "Basar la predicción en datos históricos de Surfline obtenidos a través de dos métodos: scraping y la biblioteca pysurfline.\n",
        "\n",
        "\n",
        "**Recomendación de spots**\n",
        "\n",
        "Analizar características de todas las playas de Mar del Plata para asignar un puntaje de calidad (surf score) a cada lugar.\n",
        "Implementar un modelo de lenguaje (LLM) que haga recomendaciones personalizadas y justifique su elección.\n",
        "Formato de los datos\n",
        "\n",
        "- Archivos pysurfline: Contienen información detallada sobre las condiciones del surf, incluyendo:\n",
        "  - Swells (altura, período, dirección).\n",
        "  - Viento (velocidad y dirección).\n",
        "  - Temperatura, presión atmosférica y probabilidad de buen surf.\n",
        "\n",
        "- Archivos scrap: Resumen las condiciones con menos detalle, pero incluyen:\n",
        "  - Rango de altura de olas.\n",
        "  - Clasificación (e.g., \"POOR TO FAIR\").\n",
        "  - Swells y viento.\n",
        "\n",
        "## `Fases del Challenge`\n",
        "- Fase 1\n",
        "\n",
        "Exploración y Preprocesamiento\n",
        "Unifica los datos de ambos formatos (pysurfline y scrap).\n",
        "Gestiona diferencias en resoluciones y formatos.\n",
        "Maneja valores nulos o inconsistencias, asegurando calidad en los datos.\n",
        "\n",
        "- Fase 2\n",
        "\n",
        "**Modelado Predictivo**\n",
        "Utiliza modelos de Deep Learning para series temporales, como:\n",
        "LSTMs o GRUs para capturar patrones temporales.\n",
        "Transformers si deseas explorar arquitecturas más avanzadas.\n",
        "Etiqueta los datos como \"Buen día\" o \"Mal día\" basándote en parámetros como altura de olas, dirección del viento, y clasificación de las olas.\n",
        "Evalúa el modelo con métricas como accuracy, precision, y recall.\n",
        "\n",
        "- Fase 3\n",
        "\n",
        "**Recomendación de Spots**\n",
        "Diseña una métrica personalizada para puntuar cada playa en Mar del Plata:\n",
        "Considera swells, viento, temperatura, y estacionalidad.\n",
        "Crea un sistema de recomendación basado en la puntuación y características históricas de cada spot.\n",
        "\n",
        "- Fase 4\n",
        "\n",
        "**Implementación de LLM**\n",
        "Entrena o utiliza un modelo de lenguaje como GPT o Llama para:\n",
        "Generar recomendaciones en lenguaje natural.\n",
        "Justificar la elección del mejor lugar para surfear basándose en las predicciones y análisis.\n",
        "\n",
        "- Fase 5\n",
        "\n",
        "**Evaluación**\n",
        "Valida las predicciones y recomendaciones con datos reales o históricos.\n",
        "Incorpora retroalimentación de surfistas locales para afinar la herramienta.\n",
        "\n",
        "\n",
        "## `Entregables`\n",
        "- Jupyter Notebook que incluya:\n",
        "  - Análisis exploratorio de datos.\n",
        "  - Implementación del modelo de predicción.\n",
        "  - Evaluación y visualización de los resultados.\n",
        "\n",
        "- Demo funcional:\n",
        "Herramienta que permita cargar nuevos datos y obtener predicciones.\n",
        "Interfaz para visualizar recomendaciones y justificaciones del LLM.\n",
        "Extras (Opcionales)\n",
        "Integrar visualizaciones interactivas con bibliotecas como Plotly o Dash.\n",
        "Permitir análisis en tiempo real con actualizaciones de datos.\n",
        "Comparativa con modelos tradicionales (e.g., Random Forests o ARIMA).\n"
      ],
      "metadata": {
        "id": "GVAknasOAW6O"
      }
    },
    {
      "cell_type": "markdown",
      "source": [
        "### `Cronograma del Proyecto (3/1 - 22/1)`\n",
        "\n",
        "#### Fase 1: Exploración y Preprocesamiento de Datos (3/1 - 6/1)\n",
        "- **3/1**: Revisión y unificación de los formatos de los datos (pysurfline y scrap).\n",
        "- **4/1**: Limpieza de datos (manejo de nulos e inconsistencias), normalización de las resoluciones.\n",
        "- **5/1**: Análisis exploratorio de los datos (EDA) y visualización inicial de las características (swells, viento, temperatura, etc.).\n",
        "- **6/1**: Revisión de la calidad de los datos, preparación para el modelado.\n",
        "\n",
        "#### Fase 2: Modelado Predictivo (7/1 - 12/1)\n",
        "- **7/1**: Selección de arquitectura para Deep Learning (LSTM, GRU o Transformer).\n",
        "- **8/1**: Preprocesamiento de datos para Deep Learning (creación de series temporales, normalización, etc.).\n",
        "- **9/1 - 11/1**: Entrenamiento del modelo predictivo para clasificación de \"Buen día\" vs. \"Mal día\". Ajuste de hiperparámetros.\n",
        "- **12/1**: Evaluación del modelo (accuracy, precision, recall). Ajustes finales para optimización.\n",
        "\n",
        "#### Fase 3: Recomendación de Spots (13/1 - 15/1)\n",
        "- **13/1**: Diseño de la métrica personalizada para puntuar las playas (basado en swells, viento, temperatura, estacionalidad).\n",
        "- **14/1**: Desarrollo del sistema de recomendación basado en la puntuación de cada spot.\n",
        "- **15/1**: Evaluación de la calidad del sistema de recomendación, ajustes según resultados.\n",
        "\n",
        "#### Fase 4: Implementación de LLM (16/1 - 18/1)\n",
        "- **16/1**: Implementación de un modelo de lenguaje (GPT o Llama) para generar recomendaciones en lenguaje natural.\n",
        "- **17/1**: Entrenamiento del modelo de lenguaje para justificar las recomendaciones.\n",
        "- **18/1**: Integración del modelo de lenguaje con el sistema de recomendación de spots.\n",
        "\n",
        "#### Fase 5: Evaluación y Validación (19/1 - 20/1)\n",
        "- **19/1**: Validación de las predicciones y recomendaciones con datos reales o históricos.\n",
        "- **20/1**: Revisión de retroalimentación de surfistas locales (si es posible) y ajuste de la herramienta.\n",
        "\n",
        "#### Fase 6: Demo Funcional y Entregables (21/1 - 22/1)\n",
        "- **21/1**: Desarrollo de la demo funcional que permita cargar nuevos datos y obtener predicciones.\n",
        "  - Visualización de las recomendaciones y justificaciones generadas por el modelo de lenguaje.\n",
        "- **22/1**: Entrega final del Jupyter Notebook con todo el análisis, la implementación del modelo y la evaluación de los resultados.\n",
        "  - Extras (si se completan a tiempo): Integración de visualizaciones interactivas con Plotly o Dash, análisis en tiempo real, comparativa con modelos tradicionales.\n"
      ],
      "metadata": {
        "id": "jrvP4vA5diCb"
      }
    },
    {
      "cell_type": "markdown",
      "source": [
        "# Definiciones de features para entender el contexto"
      ],
      "metadata": {
        "id": "sQDUAVnxftuX"
      }
    },
    {
      "cell_type": "markdown",
      "source": [
        "`¿Qué es un Swell?`\n",
        "\n",
        "En el contexto de las olas del mar, un swell es un grupo de olas generadas por el viento que sopla sobre el océano, generalmente a largas distancias de la costa. A medida que el viento empuja el agua, se forman ondas que viajan a través del océano. -Estas ondas (o swells) pueden desplazarse miles de kilómetros antes de llegar a la costa, donde finalmente rompen y se convierten en las olas que los surfistas suelen montar.\n",
        "\n",
        "Los swells se caracterizan principalmente por:\n",
        "\n",
        "- Altura: cuán grandes son las olas.\n",
        "- Período: cuánto tiempo pasa entre cada ola, se mide desde el momento en que una ola pasa un punto dado hasta que la siguiente lo hace.\n",
        "- Dirección: Dirección de la ola es el ángulo desde el cual llega la ola a la costa, medido en grados.\n",
        "  - El norte está a 0°\n",
        "  - El este a 90°\n",
        "  - El sur a 180°\n",
        "  - El oeste a 270°\n",
        "\n",
        "Otros:\n",
        "- Impacto: Cuán fuerte es la ola cuando llega a la costa o cuando rompe.\n",
        "- Power: Energía que transporta la ola. Una ola más potente es capaz de mover objetos más grandes y tiene una mayor capacidad para surfear.\n"
      ],
      "metadata": {
        "id": "GOABDoaXgErj"
      }
    },
    {
      "cell_type": "markdown",
      "source": [
        "# Instalaciones"
      ],
      "metadata": {
        "id": "MUxUqHVd_MEE"
      }
    },
    {
      "cell_type": "code",
      "source": [
        "!pip install pandas openpyxl"
      ],
      "metadata": {
        "colab": {
          "base_uri": "https://localhost:8080/"
        },
        "id": "NvSzpb7W_Nw_",
        "outputId": "3e28f2f1-a01e-424f-9125-272c1d1666b0"
      },
      "execution_count": 684,
      "outputs": [
        {
          "output_type": "stream",
          "name": "stdout",
          "text": [
            "Requirement already satisfied: pandas in /usr/local/lib/python3.10/dist-packages (2.2.2)\n",
            "Requirement already satisfied: openpyxl in /usr/local/lib/python3.10/dist-packages (3.1.5)\n",
            "Requirement already satisfied: numpy>=1.22.4 in /usr/local/lib/python3.10/dist-packages (from pandas) (1.26.4)\n",
            "Requirement already satisfied: python-dateutil>=2.8.2 in /usr/local/lib/python3.10/dist-packages (from pandas) (2.8.2)\n",
            "Requirement already satisfied: pytz>=2020.1 in /usr/local/lib/python3.10/dist-packages (from pandas) (2024.2)\n",
            "Requirement already satisfied: tzdata>=2022.7 in /usr/local/lib/python3.10/dist-packages (from pandas) (2024.2)\n",
            "Requirement already satisfied: et-xmlfile in /usr/local/lib/python3.10/dist-packages (from openpyxl) (2.0.0)\n",
            "Requirement already satisfied: six>=1.5 in /usr/local/lib/python3.10/dist-packages (from python-dateutil>=2.8.2->pandas) (1.17.0)\n"
          ]
        }
      ]
    },
    {
      "cell_type": "markdown",
      "source": [
        "# Importaciones"
      ],
      "metadata": {
        "id": "nNX_Eifs-Jbs"
      }
    },
    {
      "cell_type": "code",
      "execution_count": 685,
      "metadata": {
        "id": "6L5-ackj95Sb"
      },
      "outputs": [],
      "source": [
        "import pandas as pd\n",
        "import numpy as np"
      ]
    },
    {
      "cell_type": "markdown",
      "source": [
        "# Clono el repositorio"
      ],
      "metadata": {
        "id": "I8KrARJS_ahe"
      }
    },
    {
      "cell_type": "code",
      "source": [
        "!git clone https://github.com/Dantelarroy/SurfForecasting.git"
      ],
      "metadata": {
        "colab": {
          "base_uri": "https://localhost:8080/"
        },
        "id": "3P29xVyS-qWU",
        "outputId": "f3250283-9747-4f74-e053-263434a0dd54"
      },
      "execution_count": 686,
      "outputs": [
        {
          "output_type": "stream",
          "name": "stdout",
          "text": [
            "fatal: destination path 'SurfForecasting' already exists and is not an empty directory.\n"
          ]
        }
      ]
    },
    {
      "cell_type": "markdown",
      "source": [
        "# Carga de Datos"
      ],
      "metadata": {
        "id": "WsBht7Q0cFh_"
      }
    },
    {
      "cell_type": "code",
      "source": [
        "# Ruta de los archivos Excel en el repositorio clonado\n",
        "df_bio_pysurfline = pd.read_excel('SurfForecasting/data/bio_pysurfline.xlsx')\n",
        "df_bio_scrap_surfline = pd.read_excel('SurfForecasting/data/bio_scrap_surfline.xlsx')\n",
        "df_pg_pysurfline = pd.read_excel('SurfForecasting/data/pg_pysurfline.xlsx')\n",
        "df_pg_scrap_surfline = pd.read_excel('SurfForecasting/data/pg_scrap_surfline.xlsx')\n",
        "df_yatch_pysurfline = pd.read_excel('SurfForecasting/data/yatch_pysurfline.xlsx')\n",
        "df_yatch_scrap_surfline = pd.read_excel('SurfForecasting/data/yatch_scrap_surfline.xlsx')\n"
      ],
      "metadata": {
        "id": "_6lWu2HS-Iqi"
      },
      "execution_count": 687,
      "outputs": []
    },
    {
      "cell_type": "markdown",
      "source": [
        "# EDA"
      ],
      "metadata": {
        "id": "aAir3D1ib5yj"
      }
    },
    {
      "cell_type": "markdown",
      "source": [
        "## `Lista de dfs de pysurfline y scrap para facilitar la limpieza`"
      ],
      "metadata": {
        "id": "YTa0-STscP7c"
      }
    },
    {
      "cell_type": "code",
      "source": [
        "scrap_dfs_dict = {\n",
        "    'df_bio_scrap_surfline': df_bio_scrap_surfline,\n",
        "    'df_pg_scrap_surfline': df_pg_scrap_surfline,\n",
        "    'df_yatch_scrap_surfline': df_yatch_scrap_surfline,\n",
        "}\n",
        "\n",
        "pysurfline_dfs_dict = {\n",
        "    'df_bio_pysurfline': df_bio_pysurfline,\n",
        "    'df_pg_pysurfline':df_pg_pysurfline,\n",
        "    'df_yatch_pysurfline':df_yatch_pysurfline,\n",
        "}"
      ],
      "metadata": {
        "id": "H0K9wckbIIUC"
      },
      "execution_count": 688,
      "outputs": []
    },
    {
      "cell_type": "code",
      "source": [
        "df_bio_scrap_surfline = scrap_dfs_dict['df_bio_scrap_surfline']\n",
        "df_pg_scrap_surfline = scrap_dfs_dict['df_pg_scrap_surfline']\n",
        "df_yatch_scrap_surfline = scrap_dfs_dict['df_yatch_scrap_surfline']\n",
        "\n",
        "df_bio_pysurfline = pysurfline_dfs_dict['df_bio_pysurfline']\n",
        "df_pg_pysurfline = pysurfline_dfs_dict['df_pg_pysurfline']\n",
        "df_yatch_pysurfline = pysurfline_dfs_dict['df_yatch_pysurfline']\n"
      ],
      "metadata": {
        "id": "OoWUZjpOX7Az"
      },
      "execution_count": 689,
      "outputs": []
    },
    {
      "cell_type": "markdown",
      "source": [],
      "metadata": {
        "id": "KKxEplCaRPTH"
      }
    },
    {
      "cell_type": "markdown",
      "source": [
        "# SCRAP DF"
      ],
      "metadata": {
        "id": "uwNISu9kPtPn"
      }
    },
    {
      "cell_type": "markdown",
      "source": [
        "## `Columnas`"
      ],
      "metadata": {
        "id": "ebOx_79TfPGD"
      }
    },
    {
      "cell_type": "code",
      "source": [
        "df_pg_scrap_surfline.columns"
      ],
      "metadata": {
        "colab": {
          "base_uri": "https://localhost:8080/"
        },
        "id": "YmzVid6rfQ1j",
        "outputId": "3fa32c7a-9ce8-41df-dc70-64bcefa2f862"
      },
      "execution_count": 690,
      "outputs": [
        {
          "output_type": "execute_result",
          "data": {
            "text/plain": [
              "Index(['Date', 'Time', 'Surf(m)', 'Rating', 'Primary Swell', 'Secondary Swell',\n",
              "       'Wind', 'Temperature', 'Pressure', 'Probability'],\n",
              "      dtype='object')"
            ]
          },
          "metadata": {},
          "execution_count": 690
        }
      ]
    },
    {
      "cell_type": "markdown",
      "source": [
        "## `Visualización`"
      ],
      "metadata": {
        "id": "OSa7whbOcN1u"
      }
    },
    {
      "cell_type": "code",
      "source": [
        "# Visualizacion general de los df\n",
        "\n",
        "df_pg_scrap_surfline.head(1)"
      ],
      "metadata": {
        "id": "gmCt3j0DcCd3",
        "colab": {
          "base_uri": "https://localhost:8080/",
          "height": 135
        },
        "outputId": "ffee12f0-3202-45a6-d27c-13fa3e6ccfda"
      },
      "execution_count": 717,
      "outputs": [
        {
          "output_type": "execute_result",
          "data": {
            "text/plain": [
              "  Rating Primary Swell      Wind  Temperature  Pressure Probability  Surf_Min  \\\n",
              "0   POOR       0.8m 7s  2442 kph         15.0    1009.0        100%       0.6   \n",
              "\n",
              "   Surf_Max Secondary_Swell Third_Swell        timestamp_dt  \n",
              "0       0.9        0.1m 12s     0.1m 9s 2024-12-01 06:00:00  "
            ],
            "text/html": [
              "\n",
              "  <div id=\"df-e1fee13e-6873-4d4f-9025-9c8e7f2d2268\" class=\"colab-df-container\">\n",
              "    <div>\n",
              "<style scoped>\n",
              "    .dataframe tbody tr th:only-of-type {\n",
              "        vertical-align: middle;\n",
              "    }\n",
              "\n",
              "    .dataframe tbody tr th {\n",
              "        vertical-align: top;\n",
              "    }\n",
              "\n",
              "    .dataframe thead th {\n",
              "        text-align: right;\n",
              "    }\n",
              "</style>\n",
              "<table border=\"1\" class=\"dataframe\">\n",
              "  <thead>\n",
              "    <tr style=\"text-align: right;\">\n",
              "      <th></th>\n",
              "      <th>Rating</th>\n",
              "      <th>Primary Swell</th>\n",
              "      <th>Wind</th>\n",
              "      <th>Temperature</th>\n",
              "      <th>Pressure</th>\n",
              "      <th>Probability</th>\n",
              "      <th>Surf_Min</th>\n",
              "      <th>Surf_Max</th>\n",
              "      <th>Secondary_Swell</th>\n",
              "      <th>Third_Swell</th>\n",
              "      <th>timestamp_dt</th>\n",
              "    </tr>\n",
              "  </thead>\n",
              "  <tbody>\n",
              "    <tr>\n",
              "      <th>0</th>\n",
              "      <td>POOR</td>\n",
              "      <td>0.8m 7s</td>\n",
              "      <td>2442 kph</td>\n",
              "      <td>15.0</td>\n",
              "      <td>1009.0</td>\n",
              "      <td>100%</td>\n",
              "      <td>0.6</td>\n",
              "      <td>0.9</td>\n",
              "      <td>0.1m 12s</td>\n",
              "      <td>0.1m 9s</td>\n",
              "      <td>2024-12-01 06:00:00</td>\n",
              "    </tr>\n",
              "  </tbody>\n",
              "</table>\n",
              "</div>\n",
              "    <div class=\"colab-df-buttons\">\n",
              "\n",
              "  <div class=\"colab-df-container\">\n",
              "    <button class=\"colab-df-convert\" onclick=\"convertToInteractive('df-e1fee13e-6873-4d4f-9025-9c8e7f2d2268')\"\n",
              "            title=\"Convert this dataframe to an interactive table.\"\n",
              "            style=\"display:none;\">\n",
              "\n",
              "  <svg xmlns=\"http://www.w3.org/2000/svg\" height=\"24px\" viewBox=\"0 -960 960 960\">\n",
              "    <path d=\"M120-120v-720h720v720H120Zm60-500h600v-160H180v160Zm220 220h160v-160H400v160Zm0 220h160v-160H400v160ZM180-400h160v-160H180v160Zm440 0h160v-160H620v160ZM180-180h160v-160H180v160Zm440 0h160v-160H620v160Z\"/>\n",
              "  </svg>\n",
              "    </button>\n",
              "\n",
              "  <style>\n",
              "    .colab-df-container {\n",
              "      display:flex;\n",
              "      gap: 12px;\n",
              "    }\n",
              "\n",
              "    .colab-df-convert {\n",
              "      background-color: #E8F0FE;\n",
              "      border: none;\n",
              "      border-radius: 50%;\n",
              "      cursor: pointer;\n",
              "      display: none;\n",
              "      fill: #1967D2;\n",
              "      height: 32px;\n",
              "      padding: 0 0 0 0;\n",
              "      width: 32px;\n",
              "    }\n",
              "\n",
              "    .colab-df-convert:hover {\n",
              "      background-color: #E2EBFA;\n",
              "      box-shadow: 0px 1px 2px rgba(60, 64, 67, 0.3), 0px 1px 3px 1px rgba(60, 64, 67, 0.15);\n",
              "      fill: #174EA6;\n",
              "    }\n",
              "\n",
              "    .colab-df-buttons div {\n",
              "      margin-bottom: 4px;\n",
              "    }\n",
              "\n",
              "    [theme=dark] .colab-df-convert {\n",
              "      background-color: #3B4455;\n",
              "      fill: #D2E3FC;\n",
              "    }\n",
              "\n",
              "    [theme=dark] .colab-df-convert:hover {\n",
              "      background-color: #434B5C;\n",
              "      box-shadow: 0px 1px 3px 1px rgba(0, 0, 0, 0.15);\n",
              "      filter: drop-shadow(0px 1px 2px rgba(0, 0, 0, 0.3));\n",
              "      fill: #FFFFFF;\n",
              "    }\n",
              "  </style>\n",
              "\n",
              "    <script>\n",
              "      const buttonEl =\n",
              "        document.querySelector('#df-e1fee13e-6873-4d4f-9025-9c8e7f2d2268 button.colab-df-convert');\n",
              "      buttonEl.style.display =\n",
              "        google.colab.kernel.accessAllowed ? 'block' : 'none';\n",
              "\n",
              "      async function convertToInteractive(key) {\n",
              "        const element = document.querySelector('#df-e1fee13e-6873-4d4f-9025-9c8e7f2d2268');\n",
              "        const dataTable =\n",
              "          await google.colab.kernel.invokeFunction('convertToInteractive',\n",
              "                                                    [key], {});\n",
              "        if (!dataTable) return;\n",
              "\n",
              "        const docLinkHtml = 'Like what you see? Visit the ' +\n",
              "          '<a target=\"_blank\" href=https://colab.research.google.com/notebooks/data_table.ipynb>data table notebook</a>'\n",
              "          + ' to learn more about interactive tables.';\n",
              "        element.innerHTML = '';\n",
              "        dataTable['output_type'] = 'display_data';\n",
              "        await google.colab.output.renderOutput(dataTable, element);\n",
              "        const docLink = document.createElement('div');\n",
              "        docLink.innerHTML = docLinkHtml;\n",
              "        element.appendChild(docLink);\n",
              "      }\n",
              "    </script>\n",
              "  </div>\n",
              "\n",
              "\n",
              "    </div>\n",
              "  </div>\n"
            ],
            "application/vnd.google.colaboratory.intrinsic+json": {
              "type": "dataframe",
              "variable_name": "df_pg_scrap_surfline",
              "summary": "{\n  \"name\": \"df_pg_scrap_surfline\",\n  \"rows\": 78,\n  \"fields\": [\n    {\n      \"column\": \"Rating\",\n      \"properties\": {\n        \"dtype\": \"category\",\n        \"num_unique_values\": 4,\n        \"samples\": [\n          \"POOR TO FAIR\",\n          \"VERY POOR\",\n          \"POOR\"\n        ],\n        \"semantic_type\": \"\",\n        \"description\": \"\"\n      }\n    },\n    {\n      \"column\": \"Primary Swell\",\n      \"properties\": {\n        \"dtype\": \"string\",\n        \"num_unique_values\": 52,\n        \"samples\": [\n          \"3m 8s\",\n          \"0.6m 8s\",\n          \"0.7m 10s\"\n        ],\n        \"semantic_type\": \"\",\n        \"description\": \"\"\n      }\n    },\n    {\n      \"column\": \"Wind\",\n      \"properties\": {\n        \"dtype\": \"string\",\n        \"num_unique_values\": 73,\n        \"samples\": [\n          \"3546 kph\",\n          \"2735 kph\",\n          \"2842 kph\"\n        ],\n        \"semantic_type\": \"\",\n        \"description\": \"\"\n      }\n    },\n    {\n      \"column\": \"Temperature\",\n      \"properties\": {\n        \"dtype\": \"number\",\n        \"std\": 3.63624500305985,\n        \"min\": 8.0,\n        \"max\": 26.0,\n        \"num_unique_values\": 18,\n        \"samples\": [\n          15.0,\n          16.0,\n          23.0\n        ],\n        \"semantic_type\": \"\",\n        \"description\": \"\"\n      }\n    },\n    {\n      \"column\": \"Pressure\",\n      \"properties\": {\n        \"dtype\": \"number\",\n        \"std\": 4.893963879196743,\n        \"min\": 999.0,\n        \"max\": 1021.0,\n        \"num_unique_values\": 21,\n        \"samples\": [\n          1009.0,\n          1017.0,\n          1010.0\n        ],\n        \"semantic_type\": \"\",\n        \"description\": \"\"\n      }\n    },\n    {\n      \"column\": \"Probability\",\n      \"properties\": {\n        \"dtype\": \"category\",\n        \"num_unique_values\": 6,\n        \"samples\": [\n          \"100%\",\n          \"80%\",\n          \"90%\"\n        ],\n        \"semantic_type\": \"\",\n        \"description\": \"\"\n      }\n    },\n    {\n      \"column\": \"Surf_Min\",\n      \"properties\": {\n        \"dtype\": \"number\",\n        \"std\": 0.2823743344131416,\n        \"min\": 0.3,\n        \"max\": 1.5,\n        \"num_unique_values\": 5,\n        \"samples\": [\n          0.3,\n          1.5,\n          0.9\n        ],\n        \"semantic_type\": \"\",\n        \"description\": \"\"\n      }\n    },\n    {\n      \"column\": \"Surf_Max\",\n      \"properties\": {\n        \"dtype\": \"number\",\n        \"std\": 0.33882178176764227,\n        \"min\": 0.6,\n        \"max\": 2.1,\n        \"num_unique_values\": 9,\n        \"samples\": [\n          1.4,\n          0.6,\n          2.1\n        ],\n        \"semantic_type\": \"\",\n        \"description\": \"\"\n      }\n    },\n    {\n      \"column\": \"Secondary_Swell\",\n      \"properties\": {\n        \"dtype\": \"string\",\n        \"num_unique_values\": 45,\n        \"samples\": [\n          \"0.3m 7s\",\n          \"1.5m 6s\",\n          \"0.4m 6s\"\n        ],\n        \"semantic_type\": \"\",\n        \"description\": \"\"\n      }\n    },\n    {\n      \"column\": \"Third_Swell\",\n      \"properties\": {\n        \"dtype\": \"category\",\n        \"num_unique_values\": 33,\n        \"samples\": [\n          \"0.6m 7s\",\n          \"0.1m 16s\",\n          \"3.4m 8s\"\n        ],\n        \"semantic_type\": \"\",\n        \"description\": \"\"\n      }\n    },\n    {\n      \"column\": \"timestamp_dt\",\n      \"properties\": {\n        \"dtype\": \"date\",\n        \"min\": \"2024-12-01 06:00:00\",\n        \"max\": \"2024-12-28 18:00:00\",\n        \"num_unique_values\": 78,\n        \"samples\": [\n          \"2024-12-12 06:00:00\",\n          \"2024-12-01 06:00:00\",\n          \"2024-12-12 12:00:00\"\n        ],\n        \"semantic_type\": \"\",\n        \"description\": \"\"\n      }\n    }\n  ]\n}"
            }
          },
          "metadata": {},
          "execution_count": 717
        }
      ]
    },
    {
      "cell_type": "code",
      "source": [
        "df_pg_pysurfline.head(1)"
      ],
      "metadata": {
        "colab": {
          "base_uri": "https://localhost:8080/",
          "height": 147
        },
        "id": "pJUoNc9qQZPA",
        "outputId": "a365077c-e939-4132-ae74-e42c20f7066b"
      },
      "execution_count": 692,
      "outputs": [
        {
          "output_type": "execute_result",
          "data": {
            "text/plain": [
              "         timestamp_dt  timestamp_timestamp  probability  utcOffset  surf_min  \\\n",
              "0 2024-12-01 06:00:00           1733032800        100.0         -3       0.6   \n",
              "\n",
              "   surf_max  surf_optimalScore  surf_plus surf_humanRelation  surf_raw_min  \\\n",
              "0       0.9                  2      False     Thigh to waist          0.56   \n",
              "\n",
              "   ...  swells_5_directionMin  swells_5_optimalScore     speed  direction  \\\n",
              "0  ...                108.905                      0  22.11154  352.05657   \n",
              "\n",
              "   directionType      gust  optimalScore  temperature    condition  pressure  \n",
              "0    Cross-shore  40.36737             0     13.52705  NIGHT_CLEAR      1011  \n",
              "\n",
              "[1 rows x 62 columns]"
            ],
            "text/html": [
              "\n",
              "  <div id=\"df-f962524e-556a-4fd1-a0c2-76c9d46b7ab5\" class=\"colab-df-container\">\n",
              "    <div>\n",
              "<style scoped>\n",
              "    .dataframe tbody tr th:only-of-type {\n",
              "        vertical-align: middle;\n",
              "    }\n",
              "\n",
              "    .dataframe tbody tr th {\n",
              "        vertical-align: top;\n",
              "    }\n",
              "\n",
              "    .dataframe thead th {\n",
              "        text-align: right;\n",
              "    }\n",
              "</style>\n",
              "<table border=\"1\" class=\"dataframe\">\n",
              "  <thead>\n",
              "    <tr style=\"text-align: right;\">\n",
              "      <th></th>\n",
              "      <th>timestamp_dt</th>\n",
              "      <th>timestamp_timestamp</th>\n",
              "      <th>probability</th>\n",
              "      <th>utcOffset</th>\n",
              "      <th>surf_min</th>\n",
              "      <th>surf_max</th>\n",
              "      <th>surf_optimalScore</th>\n",
              "      <th>surf_plus</th>\n",
              "      <th>surf_humanRelation</th>\n",
              "      <th>surf_raw_min</th>\n",
              "      <th>...</th>\n",
              "      <th>swells_5_directionMin</th>\n",
              "      <th>swells_5_optimalScore</th>\n",
              "      <th>speed</th>\n",
              "      <th>direction</th>\n",
              "      <th>directionType</th>\n",
              "      <th>gust</th>\n",
              "      <th>optimalScore</th>\n",
              "      <th>temperature</th>\n",
              "      <th>condition</th>\n",
              "      <th>pressure</th>\n",
              "    </tr>\n",
              "  </thead>\n",
              "  <tbody>\n",
              "    <tr>\n",
              "      <th>0</th>\n",
              "      <td>2024-12-01 06:00:00</td>\n",
              "      <td>1733032800</td>\n",
              "      <td>100.0</td>\n",
              "      <td>-3</td>\n",
              "      <td>0.6</td>\n",
              "      <td>0.9</td>\n",
              "      <td>2</td>\n",
              "      <td>False</td>\n",
              "      <td>Thigh to waist</td>\n",
              "      <td>0.56</td>\n",
              "      <td>...</td>\n",
              "      <td>108.905</td>\n",
              "      <td>0</td>\n",
              "      <td>22.11154</td>\n",
              "      <td>352.05657</td>\n",
              "      <td>Cross-shore</td>\n",
              "      <td>40.36737</td>\n",
              "      <td>0</td>\n",
              "      <td>13.52705</td>\n",
              "      <td>NIGHT_CLEAR</td>\n",
              "      <td>1011</td>\n",
              "    </tr>\n",
              "  </tbody>\n",
              "</table>\n",
              "<p>1 rows × 62 columns</p>\n",
              "</div>\n",
              "    <div class=\"colab-df-buttons\">\n",
              "\n",
              "  <div class=\"colab-df-container\">\n",
              "    <button class=\"colab-df-convert\" onclick=\"convertToInteractive('df-f962524e-556a-4fd1-a0c2-76c9d46b7ab5')\"\n",
              "            title=\"Convert this dataframe to an interactive table.\"\n",
              "            style=\"display:none;\">\n",
              "\n",
              "  <svg xmlns=\"http://www.w3.org/2000/svg\" height=\"24px\" viewBox=\"0 -960 960 960\">\n",
              "    <path d=\"M120-120v-720h720v720H120Zm60-500h600v-160H180v160Zm220 220h160v-160H400v160Zm0 220h160v-160H400v160ZM180-400h160v-160H180v160Zm440 0h160v-160H620v160ZM180-180h160v-160H180v160Zm440 0h160v-160H620v160Z\"/>\n",
              "  </svg>\n",
              "    </button>\n",
              "\n",
              "  <style>\n",
              "    .colab-df-container {\n",
              "      display:flex;\n",
              "      gap: 12px;\n",
              "    }\n",
              "\n",
              "    .colab-df-convert {\n",
              "      background-color: #E8F0FE;\n",
              "      border: none;\n",
              "      border-radius: 50%;\n",
              "      cursor: pointer;\n",
              "      display: none;\n",
              "      fill: #1967D2;\n",
              "      height: 32px;\n",
              "      padding: 0 0 0 0;\n",
              "      width: 32px;\n",
              "    }\n",
              "\n",
              "    .colab-df-convert:hover {\n",
              "      background-color: #E2EBFA;\n",
              "      box-shadow: 0px 1px 2px rgba(60, 64, 67, 0.3), 0px 1px 3px 1px rgba(60, 64, 67, 0.15);\n",
              "      fill: #174EA6;\n",
              "    }\n",
              "\n",
              "    .colab-df-buttons div {\n",
              "      margin-bottom: 4px;\n",
              "    }\n",
              "\n",
              "    [theme=dark] .colab-df-convert {\n",
              "      background-color: #3B4455;\n",
              "      fill: #D2E3FC;\n",
              "    }\n",
              "\n",
              "    [theme=dark] .colab-df-convert:hover {\n",
              "      background-color: #434B5C;\n",
              "      box-shadow: 0px 1px 3px 1px rgba(0, 0, 0, 0.15);\n",
              "      filter: drop-shadow(0px 1px 2px rgba(0, 0, 0, 0.3));\n",
              "      fill: #FFFFFF;\n",
              "    }\n",
              "  </style>\n",
              "\n",
              "    <script>\n",
              "      const buttonEl =\n",
              "        document.querySelector('#df-f962524e-556a-4fd1-a0c2-76c9d46b7ab5 button.colab-df-convert');\n",
              "      buttonEl.style.display =\n",
              "        google.colab.kernel.accessAllowed ? 'block' : 'none';\n",
              "\n",
              "      async function convertToInteractive(key) {\n",
              "        const element = document.querySelector('#df-f962524e-556a-4fd1-a0c2-76c9d46b7ab5');\n",
              "        const dataTable =\n",
              "          await google.colab.kernel.invokeFunction('convertToInteractive',\n",
              "                                                    [key], {});\n",
              "        if (!dataTable) return;\n",
              "\n",
              "        const docLinkHtml = 'Like what you see? Visit the ' +\n",
              "          '<a target=\"_blank\" href=https://colab.research.google.com/notebooks/data_table.ipynb>data table notebook</a>'\n",
              "          + ' to learn more about interactive tables.';\n",
              "        element.innerHTML = '';\n",
              "        dataTable['output_type'] = 'display_data';\n",
              "        await google.colab.output.renderOutput(dataTable, element);\n",
              "        const docLink = document.createElement('div');\n",
              "        docLink.innerHTML = docLinkHtml;\n",
              "        element.appendChild(docLink);\n",
              "      }\n",
              "    </script>\n",
              "  </div>\n",
              "\n",
              "\n",
              "    </div>\n",
              "  </div>\n"
            ],
            "application/vnd.google.colaboratory.intrinsic+json": {
              "type": "dataframe",
              "variable_name": "df_pg_pysurfline"
            }
          },
          "metadata": {},
          "execution_count": 692
        }
      ]
    },
    {
      "cell_type": "markdown",
      "source": [
        "## `Nulos`"
      ],
      "metadata": {
        "id": "vPSAAd11cKuX"
      }
    },
    {
      "cell_type": "code",
      "source": [
        "# Nulos\n",
        "\n",
        "# Contabilizar los valores nulos en los DataFrames de scrap_dfs_dict\n",
        "for name, df in scrap_dfs_dict.items():\n",
        "    nulls = df.isnull().sum().sum()  # Total de valores nulos en todo el DataFrame\n",
        "    print(f\"DataFrame '{name}' en scrap_dfs_dict tiene {nulls} valores nulos.\")\n",
        "\n",
        "# Contabilizar los valores nulos en los DataFrames de pysurfline_dfs_dict\n",
        "for name, df in pysurfline_dfs_dict.items():\n",
        "    nulls = df.isnull().sum().sum()  # Total de valores nulos en todo el DataFrame\n",
        "    print(f\"DataFrame '{name}' en pysurfline_dfs_dict tiene {nulls} valores nulos.\")\n",
        "\n"
      ],
      "metadata": {
        "id": "TZ8fRLK4cJ_I",
        "colab": {
          "base_uri": "https://localhost:8080/"
        },
        "outputId": "85a0c7df-016a-42bc-d10e-d7b4347f888e"
      },
      "execution_count": 715,
      "outputs": [
        {
          "output_type": "stream",
          "name": "stdout",
          "text": [
            "DataFrame 'df_bio_scrap_surfline' en scrap_dfs_dict tiene 45 valores nulos.\n",
            "DataFrame 'df_pg_scrap_surfline' en scrap_dfs_dict tiene 25 valores nulos.\n",
            "DataFrame 'df_yatch_scrap_surfline' en scrap_dfs_dict tiene 36 valores nulos.\n",
            "DataFrame 'df_bio_pysurfline' en pysurfline_dfs_dict tiene 0 valores nulos.\n",
            "DataFrame 'df_pg_pysurfline' en pysurfline_dfs_dict tiene 0 valores nulos.\n",
            "DataFrame 'df_yatch_pysurfline' en pysurfline_dfs_dict tiene 0 valores nulos.\n"
          ]
        }
      ]
    },
    {
      "cell_type": "markdown",
      "source": [
        "## `Tipo de Datos`"
      ],
      "metadata": {
        "id": "eIl8p-CrcI0G"
      }
    },
    {
      "cell_type": "code",
      "source": [
        "# Tipo de Datos\n",
        "\n",
        "# Mostrar los tipos de datos en el primer DataFrame de scrap_dfs_dict\n",
        "first_scrap_key = list(scrap_dfs_dict.keys())[0]  # Obtener la primera clave del diccionario\n",
        "print(f\"Tipos de datos en el DataFrame '{first_scrap_key}' de scrap_dfs_dict:\")\n",
        "print(scrap_dfs_dict[first_scrap_key].dtypes)\n",
        "print()\n",
        "\n",
        "# Mostrar los tipos de datos en el primer DataFrame de pysurfline_dfs_dict\n",
        "first_pysurf_key = list(pysurfline_dfs_dict.keys())[0]  # Obtener la primera clave del diccionario\n",
        "print(f\"Tipos de datos en el DataFrame '{first_pysurf_key}' de pysurfline_dfs_dict:\")\n",
        "print(pysurfline_dfs_dict[first_pysurf_key].dtypes)\n",
        "\n",
        "\n"
      ],
      "metadata": {
        "id": "CcGfissMcMA_",
        "colab": {
          "base_uri": "https://localhost:8080/"
        },
        "outputId": "9d2a1f77-f1c5-4ee3-cf60-3a38468c2aee"
      },
      "execution_count": 694,
      "outputs": [
        {
          "output_type": "stream",
          "name": "stdout",
          "text": [
            "Tipos de datos en el DataFrame 'df_bio_scrap_surfline' de scrap_dfs_dict:\n",
            "Date               object\n",
            "Time               object\n",
            "Surf(m)            object\n",
            "Rating             object\n",
            "Primary Swell      object\n",
            "Secondary Swell    object\n",
            "Wind               object\n",
            "Temperature        object\n",
            "Pressure           object\n",
            "Probability        object\n",
            "dtype: object\n",
            "\n",
            "Tipos de datos en el DataFrame 'df_bio_pysurfline' de pysurfline_dfs_dict:\n",
            "timestamp_dt           datetime64[ns]\n",
            "timestamp_timestamp             int64\n",
            "probability                   float64\n",
            "utcOffset                       int64\n",
            "surf_min                      float64\n",
            "                            ...      \n",
            "gust                          float64\n",
            "optimalScore                    int64\n",
            "temperature                   float64\n",
            "condition                      object\n",
            "pressure                        int64\n",
            "Length: 62, dtype: object\n"
          ]
        }
      ]
    },
    {
      "cell_type": "code",
      "source": [
        "# Función para dividir la columna 'Surf(m)' en 'Surf_Min' y 'Surf_Max'\n",
        "def split_surf_column(df):\n",
        "    # Verificar si la columna 'Surf(m)' está presente\n",
        "    if 'Surf(m)' in df.columns:\n",
        "        # Separar la columna 'Surf(m)' en Surf_Min y Surf_Max\n",
        "        df[['Surf_Min', 'Surf_Max']] = df['Surf(m)'].str.split('-', expand=True)\n",
        "\n",
        "        # Convertir las columnas 'Surf_Min' y 'Surf_Max' a tipo numérico\n",
        "        df['Surf_Min'] = pd.to_numeric(df['Surf_Min'], errors='coerce')\n",
        "        df['Surf_Max'] = pd.to_numeric(df['Surf_Max'], errors='coerce')\n",
        "\n",
        "    return df\n",
        "\n",
        "# Aplicar la función a cada DataFrame del diccionario\n",
        "for name, df in scrap_dfs_dict.items():\n",
        "    scrap_dfs_dict[name] = split_surf_column(df)"
      ],
      "metadata": {
        "id": "WJ5ff_9lcDOb"
      },
      "execution_count": 695,
      "outputs": []
    },
    {
      "cell_type": "code",
      "source": [
        "# Eliminar columnas 'Surf(m)' y 'Time' para el DataFrame df_bio_scrap_surfline\n",
        "scrap_dfs_dict['df_bio_scrap_surfline'] = scrap_dfs_dict['df_bio_scrap_surfline'].drop(columns=['Surf(m)']).reset_index(drop=True)\n",
        "\n",
        "# Eliminar columnas 'Surf(m)' y 'Time' para el DataFrame df_pg_scrap_surfline\n",
        "scrap_dfs_dict['df_pg_scrap_surfline'] = scrap_dfs_dict['df_pg_scrap_surfline'].drop(columns=['Surf(m)']).reset_index(drop=True)\n",
        "\n",
        "# Eliminar columnas 'Surf(m)' y 'Time' para el DataFrame df_yatch_scrap_surfline\n",
        "scrap_dfs_dict['df_yatch_scrap_surfline'] = scrap_dfs_dict['df_yatch_scrap_surfline'].drop(columns=['Surf(m)']).reset_index(drop=True)\n"
      ],
      "metadata": {
        "id": "ixWJH8qWcscM"
      },
      "execution_count": 696,
      "outputs": []
    },
    {
      "cell_type": "code",
      "source": [
        "# Datos duplicados"
      ],
      "metadata": {
        "id": "caywDTkOcNle"
      },
      "execution_count": 697,
      "outputs": []
    },
    {
      "cell_type": "code",
      "source": [
        "# Conversión de Datos"
      ],
      "metadata": {
        "id": "74NMAyGFcRLO"
      },
      "execution_count": 698,
      "outputs": []
    },
    {
      "cell_type": "code",
      "source": [
        "# Manejo de Nulos"
      ],
      "metadata": {
        "id": "rLUYThqScSx_"
      },
      "execution_count": 699,
      "outputs": []
    },
    {
      "cell_type": "code",
      "source": [
        "# Eliminar caracteres especiales"
      ],
      "metadata": {
        "id": "3wJDvP40cUP5"
      },
      "execution_count": 700,
      "outputs": []
    },
    {
      "cell_type": "code",
      "source": [
        "# Describe"
      ],
      "metadata": {
        "id": "Tr053BMjccr8"
      },
      "execution_count": 701,
      "outputs": []
    },
    {
      "cell_type": "code",
      "source": [
        "# Unificar los datasets"
      ],
      "metadata": {
        "id": "8MWBrlacckrF"
      },
      "execution_count": 702,
      "outputs": []
    },
    {
      "cell_type": "code",
      "source": [
        "df_bio_scrap_surfline.dtypes"
      ],
      "metadata": {
        "colab": {
          "base_uri": "https://localhost:8080/",
          "height": 460
        },
        "id": "5y3Gq91PQEpk",
        "outputId": "cc71df0d-0a43-46cb-b468-5d34d1e4b2e7"
      },
      "execution_count": 703,
      "outputs": [
        {
          "output_type": "execute_result",
          "data": {
            "text/plain": [
              "Date                object\n",
              "Time                object\n",
              "Surf(m)             object\n",
              "Rating              object\n",
              "Primary Swell       object\n",
              "Secondary Swell     object\n",
              "Wind                object\n",
              "Temperature         object\n",
              "Pressure            object\n",
              "Probability         object\n",
              "Surf_Min           float64\n",
              "Surf_Max           float64\n",
              "dtype: object"
            ],
            "text/html": [
              "<div>\n",
              "<style scoped>\n",
              "    .dataframe tbody tr th:only-of-type {\n",
              "        vertical-align: middle;\n",
              "    }\n",
              "\n",
              "    .dataframe tbody tr th {\n",
              "        vertical-align: top;\n",
              "    }\n",
              "\n",
              "    .dataframe thead th {\n",
              "        text-align: right;\n",
              "    }\n",
              "</style>\n",
              "<table border=\"1\" class=\"dataframe\">\n",
              "  <thead>\n",
              "    <tr style=\"text-align: right;\">\n",
              "      <th></th>\n",
              "      <th>0</th>\n",
              "    </tr>\n",
              "  </thead>\n",
              "  <tbody>\n",
              "    <tr>\n",
              "      <th>Date</th>\n",
              "      <td>object</td>\n",
              "    </tr>\n",
              "    <tr>\n",
              "      <th>Time</th>\n",
              "      <td>object</td>\n",
              "    </tr>\n",
              "    <tr>\n",
              "      <th>Surf(m)</th>\n",
              "      <td>object</td>\n",
              "    </tr>\n",
              "    <tr>\n",
              "      <th>Rating</th>\n",
              "      <td>object</td>\n",
              "    </tr>\n",
              "    <tr>\n",
              "      <th>Primary Swell</th>\n",
              "      <td>object</td>\n",
              "    </tr>\n",
              "    <tr>\n",
              "      <th>Secondary Swell</th>\n",
              "      <td>object</td>\n",
              "    </tr>\n",
              "    <tr>\n",
              "      <th>Wind</th>\n",
              "      <td>object</td>\n",
              "    </tr>\n",
              "    <tr>\n",
              "      <th>Temperature</th>\n",
              "      <td>object</td>\n",
              "    </tr>\n",
              "    <tr>\n",
              "      <th>Pressure</th>\n",
              "      <td>object</td>\n",
              "    </tr>\n",
              "    <tr>\n",
              "      <th>Probability</th>\n",
              "      <td>object</td>\n",
              "    </tr>\n",
              "    <tr>\n",
              "      <th>Surf_Min</th>\n",
              "      <td>float64</td>\n",
              "    </tr>\n",
              "    <tr>\n",
              "      <th>Surf_Max</th>\n",
              "      <td>float64</td>\n",
              "    </tr>\n",
              "  </tbody>\n",
              "</table>\n",
              "</div><br><label><b>dtype:</b> object</label>"
            ]
          },
          "metadata": {},
          "execution_count": 703
        }
      ]
    },
    {
      "cell_type": "markdown",
      "source": [
        " ## `Split Secondary Swell y agregar Third Swell `"
      ],
      "metadata": {
        "id": "_M3cAsLKH7Hz"
      }
    },
    {
      "cell_type": "code",
      "source": [
        "# Iterar sobre los DataFrames en el diccionario\n",
        "for name, df in scrap_dfs_dict.items():\n",
        "    # Dividir la columna 'Secondary Swell' en 'Secondary_Swell' y 'Third_Swell' usando el separador '|'\n",
        "    if 'Secondary Swell' in df.columns:\n",
        "        df[['Secondary_Swell', 'Third_Swell']] = df['Secondary Swell'].str.split(' \\| ', expand=True)\n",
        "        df.drop(columns=['Secondary Swell'], inplace=True)  # Eliminar la columna original\n",
        "\n",
        "    # Actualizar el DataFrame modificado en el diccionario\n",
        "    scrap_dfs_dict[name] = df\n",
        "\n",
        "\n"
      ],
      "metadata": {
        "id": "qIB6lFN3IGeT"
      },
      "execution_count": 705,
      "outputs": []
    },
    {
      "cell_type": "code",
      "source": [
        "# Iterar sobre los DataFrames en el diccionario\n",
        "for name, df in scrap_dfs_dict.items():\n",
        "    # Eliminar la columna 'Secondary Swell' si existe\n",
        "    if 'Secondary Swell' in df.columns:\n",
        "        df = df.drop(columns=['Secondary Swell'])\n",
        "\n",
        "    # Reemplazar valores vacíos o None en 'Third_Swell' con np.nan\n",
        "    if 'Third_Swell' in df.columns:\n",
        "        df['Third_Swell'] = df['Third_Swell'].replace(['', None], np.nan)\n",
        "\n",
        "    # Actualizar el DataFrame en el diccionario\n",
        "    scrap_dfs_dict[name] = df\n"
      ],
      "metadata": {
        "id": "aRv08IWsIxFK"
      },
      "execution_count": 706,
      "outputs": []
    },
    {
      "cell_type": "markdown",
      "source": [
        "## `Estandarizar columnas Date, Time de scrap_dfs`"
      ],
      "metadata": {
        "id": "Tn6ajNVrJnD0"
      }
    },
    {
      "cell_type": "code",
      "source": [
        "def unify_datetime_columns_in_dict(dataframes_dict, output_col=\"timestamp_dt\"):\n",
        "    \"\"\"\n",
        "    Unifica las columnas 'Date' y 'Time' en cada DataFrame de un diccionario en una columna tipo timestamp,\n",
        "    reemplaza 'Noon' por '12pm', y elimina las columnas originales.\n",
        "\n",
        "    Args:\n",
        "        dataframes_dict (dict): Diccionario donde las claves son nombres y los valores son DataFrames.\n",
        "        output_col (str): Nombre de la nueva columna unificada. Por defecto es 'timestamp_dt'.\n",
        "\n",
        "    Returns:\n",
        "        dict: Diccionario actualizado con los DataFrames modificados.\n",
        "    \"\"\"\n",
        "    for name, df in dataframes_dict.items():\n",
        "        try:\n",
        "            # Verificar que las columnas 'Date' y 'Time' están presentes\n",
        "            required_cols = [\"Date\", \"Time\"]\n",
        "            for col in required_cols:\n",
        "                if col not in df.columns:\n",
        "                    raise KeyError(f\"La columna requerida '{col}' no está presente en el DataFrame '{name}'.\")\n",
        "\n",
        "            # Reemplazar \"Noon\" por \"12pm\" en la columna 'Time'\n",
        "            df[\"Time\"] = df[\"Time\"].replace(\"Noon\", \"12pm\")\n",
        "\n",
        "            # Crear la nueva columna unificada como timestamp\n",
        "            df[output_col] = pd.to_datetime(\n",
        "                df[\"Date\"] + \" \" + df[\"Time\"],\n",
        "                format=\"%Y-%m-%d %I%p\",\n",
        "                errors=\"coerce\"\n",
        "            )\n",
        "\n",
        "            # Eliminar columnas originales\n",
        "            df.drop(columns=[\"Date\", \"Time\"], inplace=True)\n",
        "\n",
        "            # Actualizar el DataFrame en el diccionario\n",
        "            dataframes_dict[name] = df\n",
        "\n",
        "        except KeyError as e:\n",
        "            print(f\"Error procesando '{name}': {e}\")\n",
        "\n",
        "    return dataframes_dict\n",
        "\n",
        "\n",
        "# Aplicar la función al diccionario de DataFrames\n",
        "scrap_dfs_dict = unify_datetime_columns_in_dict(scrap_dfs_dict)\n",
        "\n",
        "\n",
        "\n"
      ],
      "metadata": {
        "id": "QTZqCiypHth_"
      },
      "execution_count": 707,
      "outputs": []
    },
    {
      "cell_type": "markdown",
      "source": [
        "## `Temperatura y Pressure a float`"
      ],
      "metadata": {
        "id": "XbPYE0pMOUgP"
      }
    },
    {
      "cell_type": "code",
      "source": [
        "# Para la columna 'Temperature' en todos los DataFrames de scrap_dfs_dict\n",
        "for name, df in scrap_dfs_dict.items():\n",
        "    if 'Temperature' in df.columns:\n",
        "        # Convertir la columna 'Temperature' a string antes de aplicar str.replace()\n",
        "        df['Temperature'] = df['Temperature'].astype(str).str.replace('ºc', '', regex=True).astype(float)\n",
        "\n",
        "        # Validación: Verificar que los cambios se aplicaron correctamente\n",
        "        print(f\"Cambios en 'Temperature' para {name}:\")\n",
        "        print(df['Temperature'].head())  # Muestra las primeras filas de la columna 'Temperature'\n",
        "        print(f\"Tipo de datos en 'Temperature' para {name}: {df['Temperature'].dtype}\")\n",
        "\n",
        "# Para la columna 'Pressure' en todos los DataFrames de scrap_dfs_dict\n",
        "for name, df in scrap_dfs_dict.items():\n",
        "    if 'Pressure' in df.columns:\n",
        "        # Convertir la columna 'Pressure' a string antes de aplicar str.replace()\n",
        "        df['Pressure'] = df['Pressure'].astype(str).str.replace('mb', '', regex=True).astype(float)\n",
        "\n",
        "        # Validación: Verificar que los cambios se aplicaron correctamente\n",
        "        print(f\"Cambios en 'Pressure' para {name}:\")\n",
        "        print(df['Pressure'].head())  # Muestra las primeras filas de la columna 'Pressure'\n",
        "        print(f\"Tipo de datos en 'Pressure' para {name}: {df['Pressure'].dtype}\")\n",
        "\n"
      ],
      "metadata": {
        "colab": {
          "base_uri": "https://localhost:8080/"
        },
        "id": "K03_GHlDOkhF",
        "outputId": "fffb6ecd-3e7e-4002-91a0-e2bb57cd146b"
      },
      "execution_count": 708,
      "outputs": [
        {
          "output_type": "stream",
          "name": "stdout",
          "text": [
            "Cambios en 'Temperature' para df_bio_scrap_surfline:\n",
            "0    13.0\n",
            "1    15.0\n",
            "2    12.0\n",
            "3     8.0\n",
            "4    17.0\n",
            "Name: Temperature, dtype: float64\n",
            "Tipo de datos en 'Temperature' para df_bio_scrap_surfline: float64\n",
            "Cambios en 'Temperature' para df_pg_scrap_surfline:\n",
            "0    15.0\n",
            "1    16.0\n",
            "2    18.0\n",
            "3    13.0\n",
            "4    15.0\n",
            "Name: Temperature, dtype: float64\n",
            "Tipo de datos en 'Temperature' para df_pg_scrap_surfline: float64\n",
            "Cambios en 'Temperature' para df_yatch_scrap_surfline:\n",
            "0    13.0\n",
            "1    15.0\n",
            "2    12.0\n",
            "3     8.0\n",
            "4    17.0\n",
            "Name: Temperature, dtype: float64\n",
            "Tipo de datos en 'Temperature' para df_yatch_scrap_surfline: float64\n",
            "Cambios en 'Pressure' para df_bio_scrap_surfline:\n",
            "0    1006.0\n",
            "1    1009.0\n",
            "2    1009.0\n",
            "3    1011.0\n",
            "4    1013.0\n",
            "Name: Pressure, dtype: float64\n",
            "Tipo de datos en 'Pressure' para df_bio_scrap_surfline: float64\n",
            "Cambios en 'Pressure' para df_pg_scrap_surfline:\n",
            "0    1009.0\n",
            "1    1003.0\n",
            "2     999.0\n",
            "3    1006.0\n",
            "4    1009.0\n",
            "Name: Pressure, dtype: float64\n",
            "Tipo de datos en 'Pressure' para df_pg_scrap_surfline: float64\n",
            "Cambios en 'Pressure' para df_yatch_scrap_surfline:\n",
            "0    1006.0\n",
            "1    1009.0\n",
            "2    1009.0\n",
            "3    1011.0\n",
            "4    1013.0\n",
            "Name: Pressure, dtype: float64\n",
            "Tipo de datos en 'Pressure' para df_yatch_scrap_surfline: float64\n"
          ]
        }
      ]
    },
    {
      "cell_type": "code",
      "source": [
        "# Declarar las variables con los DataFrames del diccionario\n",
        "df_bio_scrap_surfline = scrap_dfs_dict['df_bio_scrap_surfline']\n",
        "df_pg_scrap_surfline = scrap_dfs_dict['df_pg_scrap_surfline']\n",
        "df_yatch_scrap_surfline = scrap_dfs_dict['df_yatch_scrap_surfline']\n"
      ],
      "metadata": {
        "id": "VLOgIwecXfml"
      },
      "execution_count": 712,
      "outputs": []
    },
    {
      "cell_type": "code",
      "source": [
        "df_bio_scrap_surfline.describe()"
      ],
      "metadata": {
        "colab": {
          "base_uri": "https://localhost:8080/",
          "height": 300
        },
        "id": "OIc-ewdEaVLZ",
        "outputId": "300b50d5-9a8e-4afd-afc8-8afb330f9255"
      },
      "execution_count": 716,
      "outputs": [
        {
          "output_type": "execute_result",
          "data": {
            "text/plain": [
              "       Temperature     Pressure   Surf_Min   Surf_Max         timestamp_dt\n",
              "count    75.000000    75.000000  75.000000  75.000000                   75\n",
              "mean     16.826667  1012.986667   0.560000   0.918667  2024-12-14 15:50:24\n",
              "min       8.000000  1001.000000   0.300000   0.600000  2024-12-02 06:00:00\n",
              "25%      15.000000  1010.000000   0.300000   0.600000  2024-12-08 09:00:00\n",
              "50%      17.000000  1014.000000   0.600000   0.900000  2024-12-14 12:00:00\n",
              "75%      18.000000  1016.000000   0.600000   1.100000  2024-12-20 15:00:00\n",
              "max      26.000000  1021.000000   0.900000   1.400000  2024-12-28 18:00:00\n",
              "std       3.699428     4.566308   0.205334   0.242004                  NaN"
            ],
            "text/html": [
              "\n",
              "  <div id=\"df-299e3f38-1f72-48a4-a251-c8e51f585680\" class=\"colab-df-container\">\n",
              "    <div>\n",
              "<style scoped>\n",
              "    .dataframe tbody tr th:only-of-type {\n",
              "        vertical-align: middle;\n",
              "    }\n",
              "\n",
              "    .dataframe tbody tr th {\n",
              "        vertical-align: top;\n",
              "    }\n",
              "\n",
              "    .dataframe thead th {\n",
              "        text-align: right;\n",
              "    }\n",
              "</style>\n",
              "<table border=\"1\" class=\"dataframe\">\n",
              "  <thead>\n",
              "    <tr style=\"text-align: right;\">\n",
              "      <th></th>\n",
              "      <th>Temperature</th>\n",
              "      <th>Pressure</th>\n",
              "      <th>Surf_Min</th>\n",
              "      <th>Surf_Max</th>\n",
              "      <th>timestamp_dt</th>\n",
              "    </tr>\n",
              "  </thead>\n",
              "  <tbody>\n",
              "    <tr>\n",
              "      <th>count</th>\n",
              "      <td>75.000000</td>\n",
              "      <td>75.000000</td>\n",
              "      <td>75.000000</td>\n",
              "      <td>75.000000</td>\n",
              "      <td>75</td>\n",
              "    </tr>\n",
              "    <tr>\n",
              "      <th>mean</th>\n",
              "      <td>16.826667</td>\n",
              "      <td>1012.986667</td>\n",
              "      <td>0.560000</td>\n",
              "      <td>0.918667</td>\n",
              "      <td>2024-12-14 15:50:24</td>\n",
              "    </tr>\n",
              "    <tr>\n",
              "      <th>min</th>\n",
              "      <td>8.000000</td>\n",
              "      <td>1001.000000</td>\n",
              "      <td>0.300000</td>\n",
              "      <td>0.600000</td>\n",
              "      <td>2024-12-02 06:00:00</td>\n",
              "    </tr>\n",
              "    <tr>\n",
              "      <th>25%</th>\n",
              "      <td>15.000000</td>\n",
              "      <td>1010.000000</td>\n",
              "      <td>0.300000</td>\n",
              "      <td>0.600000</td>\n",
              "      <td>2024-12-08 09:00:00</td>\n",
              "    </tr>\n",
              "    <tr>\n",
              "      <th>50%</th>\n",
              "      <td>17.000000</td>\n",
              "      <td>1014.000000</td>\n",
              "      <td>0.600000</td>\n",
              "      <td>0.900000</td>\n",
              "      <td>2024-12-14 12:00:00</td>\n",
              "    </tr>\n",
              "    <tr>\n",
              "      <th>75%</th>\n",
              "      <td>18.000000</td>\n",
              "      <td>1016.000000</td>\n",
              "      <td>0.600000</td>\n",
              "      <td>1.100000</td>\n",
              "      <td>2024-12-20 15:00:00</td>\n",
              "    </tr>\n",
              "    <tr>\n",
              "      <th>max</th>\n",
              "      <td>26.000000</td>\n",
              "      <td>1021.000000</td>\n",
              "      <td>0.900000</td>\n",
              "      <td>1.400000</td>\n",
              "      <td>2024-12-28 18:00:00</td>\n",
              "    </tr>\n",
              "    <tr>\n",
              "      <th>std</th>\n",
              "      <td>3.699428</td>\n",
              "      <td>4.566308</td>\n",
              "      <td>0.205334</td>\n",
              "      <td>0.242004</td>\n",
              "      <td>NaN</td>\n",
              "    </tr>\n",
              "  </tbody>\n",
              "</table>\n",
              "</div>\n",
              "    <div class=\"colab-df-buttons\">\n",
              "\n",
              "  <div class=\"colab-df-container\">\n",
              "    <button class=\"colab-df-convert\" onclick=\"convertToInteractive('df-299e3f38-1f72-48a4-a251-c8e51f585680')\"\n",
              "            title=\"Convert this dataframe to an interactive table.\"\n",
              "            style=\"display:none;\">\n",
              "\n",
              "  <svg xmlns=\"http://www.w3.org/2000/svg\" height=\"24px\" viewBox=\"0 -960 960 960\">\n",
              "    <path d=\"M120-120v-720h720v720H120Zm60-500h600v-160H180v160Zm220 220h160v-160H400v160Zm0 220h160v-160H400v160ZM180-400h160v-160H180v160Zm440 0h160v-160H620v160ZM180-180h160v-160H180v160Zm440 0h160v-160H620v160Z\"/>\n",
              "  </svg>\n",
              "    </button>\n",
              "\n",
              "  <style>\n",
              "    .colab-df-container {\n",
              "      display:flex;\n",
              "      gap: 12px;\n",
              "    }\n",
              "\n",
              "    .colab-df-convert {\n",
              "      background-color: #E8F0FE;\n",
              "      border: none;\n",
              "      border-radius: 50%;\n",
              "      cursor: pointer;\n",
              "      display: none;\n",
              "      fill: #1967D2;\n",
              "      height: 32px;\n",
              "      padding: 0 0 0 0;\n",
              "      width: 32px;\n",
              "    }\n",
              "\n",
              "    .colab-df-convert:hover {\n",
              "      background-color: #E2EBFA;\n",
              "      box-shadow: 0px 1px 2px rgba(60, 64, 67, 0.3), 0px 1px 3px 1px rgba(60, 64, 67, 0.15);\n",
              "      fill: #174EA6;\n",
              "    }\n",
              "\n",
              "    .colab-df-buttons div {\n",
              "      margin-bottom: 4px;\n",
              "    }\n",
              "\n",
              "    [theme=dark] .colab-df-convert {\n",
              "      background-color: #3B4455;\n",
              "      fill: #D2E3FC;\n",
              "    }\n",
              "\n",
              "    [theme=dark] .colab-df-convert:hover {\n",
              "      background-color: #434B5C;\n",
              "      box-shadow: 0px 1px 3px 1px rgba(0, 0, 0, 0.15);\n",
              "      filter: drop-shadow(0px 1px 2px rgba(0, 0, 0, 0.3));\n",
              "      fill: #FFFFFF;\n",
              "    }\n",
              "  </style>\n",
              "\n",
              "    <script>\n",
              "      const buttonEl =\n",
              "        document.querySelector('#df-299e3f38-1f72-48a4-a251-c8e51f585680 button.colab-df-convert');\n",
              "      buttonEl.style.display =\n",
              "        google.colab.kernel.accessAllowed ? 'block' : 'none';\n",
              "\n",
              "      async function convertToInteractive(key) {\n",
              "        const element = document.querySelector('#df-299e3f38-1f72-48a4-a251-c8e51f585680');\n",
              "        const dataTable =\n",
              "          await google.colab.kernel.invokeFunction('convertToInteractive',\n",
              "                                                    [key], {});\n",
              "        if (!dataTable) return;\n",
              "\n",
              "        const docLinkHtml = 'Like what you see? Visit the ' +\n",
              "          '<a target=\"_blank\" href=https://colab.research.google.com/notebooks/data_table.ipynb>data table notebook</a>'\n",
              "          + ' to learn more about interactive tables.';\n",
              "        element.innerHTML = '';\n",
              "        dataTable['output_type'] = 'display_data';\n",
              "        await google.colab.output.renderOutput(dataTable, element);\n",
              "        const docLink = document.createElement('div');\n",
              "        docLink.innerHTML = docLinkHtml;\n",
              "        element.appendChild(docLink);\n",
              "      }\n",
              "    </script>\n",
              "  </div>\n",
              "\n",
              "\n",
              "<div id=\"df-7317d42d-78a8-4dfd-a6d5-3ba10b898b94\">\n",
              "  <button class=\"colab-df-quickchart\" onclick=\"quickchart('df-7317d42d-78a8-4dfd-a6d5-3ba10b898b94')\"\n",
              "            title=\"Suggest charts\"\n",
              "            style=\"display:none;\">\n",
              "\n",
              "<svg xmlns=\"http://www.w3.org/2000/svg\" height=\"24px\"viewBox=\"0 0 24 24\"\n",
              "     width=\"24px\">\n",
              "    <g>\n",
              "        <path d=\"M19 3H5c-1.1 0-2 .9-2 2v14c0 1.1.9 2 2 2h14c1.1 0 2-.9 2-2V5c0-1.1-.9-2-2-2zM9 17H7v-7h2v7zm4 0h-2V7h2v10zm4 0h-2v-4h2v4z\"/>\n",
              "    </g>\n",
              "</svg>\n",
              "  </button>\n",
              "\n",
              "<style>\n",
              "  .colab-df-quickchart {\n",
              "      --bg-color: #E8F0FE;\n",
              "      --fill-color: #1967D2;\n",
              "      --hover-bg-color: #E2EBFA;\n",
              "      --hover-fill-color: #174EA6;\n",
              "      --disabled-fill-color: #AAA;\n",
              "      --disabled-bg-color: #DDD;\n",
              "  }\n",
              "\n",
              "  [theme=dark] .colab-df-quickchart {\n",
              "      --bg-color: #3B4455;\n",
              "      --fill-color: #D2E3FC;\n",
              "      --hover-bg-color: #434B5C;\n",
              "      --hover-fill-color: #FFFFFF;\n",
              "      --disabled-bg-color: #3B4455;\n",
              "      --disabled-fill-color: #666;\n",
              "  }\n",
              "\n",
              "  .colab-df-quickchart {\n",
              "    background-color: var(--bg-color);\n",
              "    border: none;\n",
              "    border-radius: 50%;\n",
              "    cursor: pointer;\n",
              "    display: none;\n",
              "    fill: var(--fill-color);\n",
              "    height: 32px;\n",
              "    padding: 0;\n",
              "    width: 32px;\n",
              "  }\n",
              "\n",
              "  .colab-df-quickchart:hover {\n",
              "    background-color: var(--hover-bg-color);\n",
              "    box-shadow: 0 1px 2px rgba(60, 64, 67, 0.3), 0 1px 3px 1px rgba(60, 64, 67, 0.15);\n",
              "    fill: var(--button-hover-fill-color);\n",
              "  }\n",
              "\n",
              "  .colab-df-quickchart-complete:disabled,\n",
              "  .colab-df-quickchart-complete:disabled:hover {\n",
              "    background-color: var(--disabled-bg-color);\n",
              "    fill: var(--disabled-fill-color);\n",
              "    box-shadow: none;\n",
              "  }\n",
              "\n",
              "  .colab-df-spinner {\n",
              "    border: 2px solid var(--fill-color);\n",
              "    border-color: transparent;\n",
              "    border-bottom-color: var(--fill-color);\n",
              "    animation:\n",
              "      spin 1s steps(1) infinite;\n",
              "  }\n",
              "\n",
              "  @keyframes spin {\n",
              "    0% {\n",
              "      border-color: transparent;\n",
              "      border-bottom-color: var(--fill-color);\n",
              "      border-left-color: var(--fill-color);\n",
              "    }\n",
              "    20% {\n",
              "      border-color: transparent;\n",
              "      border-left-color: var(--fill-color);\n",
              "      border-top-color: var(--fill-color);\n",
              "    }\n",
              "    30% {\n",
              "      border-color: transparent;\n",
              "      border-left-color: var(--fill-color);\n",
              "      border-top-color: var(--fill-color);\n",
              "      border-right-color: var(--fill-color);\n",
              "    }\n",
              "    40% {\n",
              "      border-color: transparent;\n",
              "      border-right-color: var(--fill-color);\n",
              "      border-top-color: var(--fill-color);\n",
              "    }\n",
              "    60% {\n",
              "      border-color: transparent;\n",
              "      border-right-color: var(--fill-color);\n",
              "    }\n",
              "    80% {\n",
              "      border-color: transparent;\n",
              "      border-right-color: var(--fill-color);\n",
              "      border-bottom-color: var(--fill-color);\n",
              "    }\n",
              "    90% {\n",
              "      border-color: transparent;\n",
              "      border-bottom-color: var(--fill-color);\n",
              "    }\n",
              "  }\n",
              "</style>\n",
              "\n",
              "  <script>\n",
              "    async function quickchart(key) {\n",
              "      const quickchartButtonEl =\n",
              "        document.querySelector('#' + key + ' button');\n",
              "      quickchartButtonEl.disabled = true;  // To prevent multiple clicks.\n",
              "      quickchartButtonEl.classList.add('colab-df-spinner');\n",
              "      try {\n",
              "        const charts = await google.colab.kernel.invokeFunction(\n",
              "            'suggestCharts', [key], {});\n",
              "      } catch (error) {\n",
              "        console.error('Error during call to suggestCharts:', error);\n",
              "      }\n",
              "      quickchartButtonEl.classList.remove('colab-df-spinner');\n",
              "      quickchartButtonEl.classList.add('colab-df-quickchart-complete');\n",
              "    }\n",
              "    (() => {\n",
              "      let quickchartButtonEl =\n",
              "        document.querySelector('#df-7317d42d-78a8-4dfd-a6d5-3ba10b898b94 button');\n",
              "      quickchartButtonEl.style.display =\n",
              "        google.colab.kernel.accessAllowed ? 'block' : 'none';\n",
              "    })();\n",
              "  </script>\n",
              "</div>\n",
              "\n",
              "    </div>\n",
              "  </div>\n"
            ],
            "application/vnd.google.colaboratory.intrinsic+json": {
              "type": "dataframe",
              "summary": "{\n  \"name\": \"df_bio_scrap_surfline\",\n  \"rows\": 8,\n  \"fields\": [\n    {\n      \"column\": \"Temperature\",\n      \"properties\": {\n        \"dtype\": \"number\",\n        \"std\": 22.268235398299442,\n        \"min\": 3.699427761933698,\n        \"max\": 75.0,\n        \"num_unique_values\": 8,\n        \"samples\": [\n          16.826666666666668,\n          18.0,\n          75.0\n        ],\n        \"semantic_type\": \"\",\n        \"description\": \"\"\n      }\n    },\n    {\n      \"column\": \"Pressure\",\n      \"properties\": {\n        \"dtype\": \"number\",\n        \"std\": 450.70841823266875,\n        \"min\": 4.566308265017942,\n        \"max\": 1021.0,\n        \"num_unique_values\": 8,\n        \"samples\": [\n          1012.9866666666667,\n          1016.0,\n          75.0\n        ],\n        \"semantic_type\": \"\",\n        \"description\": \"\"\n      }\n    },\n    {\n      \"column\": \"Surf_Min\",\n      \"properties\": {\n        \"dtype\": \"number\",\n        \"std\": 26.34242823418527,\n        \"min\": 0.20533426933213603,\n        \"max\": 75.0,\n        \"num_unique_values\": 6,\n        \"samples\": [\n          75.0,\n          0.5599999999999999,\n          0.20533426933213603\n        ],\n        \"semantic_type\": \"\",\n        \"description\": \"\"\n      }\n    },\n    {\n      \"column\": \"Surf_Max\",\n      \"properties\": {\n        \"dtype\": \"number\",\n        \"std\": 26.227893495545924,\n        \"min\": 0.24200364824887613,\n        \"max\": 75.0,\n        \"num_unique_values\": 7,\n        \"samples\": [\n          75.0,\n          0.9186666666666665,\n          1.4\n        ],\n        \"semantic_type\": \"\",\n        \"description\": \"\"\n      }\n    },\n    {\n      \"column\": \"timestamp_dt\",\n      \"properties\": {\n        \"dtype\": \"date\",\n        \"min\": \"1970-01-01 00:00:00.000000075\",\n        \"max\": \"2024-12-28 18:00:00\",\n        \"num_unique_values\": 7,\n        \"samples\": [\n          \"75\",\n          \"2024-12-14 15:50:24\",\n          \"2024-12-20 15:00:00\"\n        ],\n        \"semantic_type\": \"\",\n        \"description\": \"\"\n      }\n    }\n  ]\n}"
            }
          },
          "metadata": {},
          "execution_count": 716
        }
      ]
    },
    {
      "cell_type": "markdown",
      "source": [
        "# PYSURFLINE DF"
      ],
      "metadata": {
        "id": "pfLmOWK7Py0x"
      }
    },
    {
      "cell_type": "code",
      "source": [],
      "metadata": {
        "id": "jaZraYtyP0dw"
      },
      "execution_count": 711,
      "outputs": []
    }
  ]
}